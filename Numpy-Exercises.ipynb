{
 "cells": [
  {
   "cell_type": "code",
   "execution_count": 1,
   "metadata": {},
   "outputs": [],
   "source": [
    "#1. NumPy kütüphanesi np kısaltması ile import edin"
   ]
  },
  {
   "cell_type": "code",
   "execution_count": 2,
   "metadata": {},
   "outputs": [],
   "source": [
    "import numpy as np"
   ]
  },
  {
   "cell_type": "code",
   "execution_count": 3,
   "metadata": {},
   "outputs": [],
   "source": [
    "#2. 10 tane 0 değerinden oluşan bir array oluşturun"
   ]
  },
  {
   "cell_type": "code",
   "execution_count": 5,
   "metadata": {},
   "outputs": [
    {
     "data": {
      "text/plain": [
       "array([0., 0., 0., 0., 0., 0., 0., 0., 0., 0.])"
      ]
     },
     "execution_count": 5,
     "metadata": {},
     "output_type": "execute_result"
    }
   ],
   "source": [
    "arrd=np.zeros(10)\n",
    "arrd"
   ]
  },
  {
   "cell_type": "code",
   "execution_count": 6,
   "metadata": {},
   "outputs": [],
   "source": [
    "#3. 10 tane 1 değerinden oluşan bir array oluşturun"
   ]
  },
  {
   "cell_type": "code",
   "execution_count": 8,
   "metadata": {},
   "outputs": [
    {
     "data": {
      "text/plain": [
       "array([1., 1., 1., 1., 1., 1., 1., 1., 1., 1.])"
      ]
     },
     "execution_count": 8,
     "metadata": {},
     "output_type": "execute_result"
    }
   ],
   "source": [
    "asd=np.ones(10)\n",
    "asd"
   ]
  },
  {
   "cell_type": "code",
   "execution_count": 9,
   "metadata": {},
   "outputs": [],
   "source": [
    "#4. 10 tane 5 değerinden oluşan bir array oluşturun"
   ]
  },
  {
   "cell_type": "code",
   "execution_count": 12,
   "metadata": {},
   "outputs": [
    {
     "data": {
      "text/plain": [
       "array([5., 5., 5., 5., 5., 5., 5., 5., 5., 5.])"
      ]
     },
     "execution_count": 12,
     "metadata": {},
     "output_type": "execute_result"
    }
   ],
   "source": [
    "asz=np.ones(10)*5\n",
    "asz"
   ]
  },
  {
   "cell_type": "code",
   "execution_count": 13,
   "metadata": {},
   "outputs": [],
   "source": [
    "#5. 10'dan 50'ye kadar(10 ve 50 dahil) ardışık tam sayılardan oluşan bir array oluşturalım"
   ]
  },
  {
   "cell_type": "code",
   "execution_count": 15,
   "metadata": {},
   "outputs": [
    {
     "data": {
      "text/plain": [
       "array([10, 11, 12, 13, 14, 15, 16, 17, 18, 19, 20, 21, 22, 23, 24, 25, 26,\n",
       "       27, 28, 29, 30, 31, 32, 33, 34, 35, 36, 37, 38, 39, 40, 41, 42, 43,\n",
       "       44, 45, 46, 47, 48, 49, 50])"
      ]
     },
     "execution_count": 15,
     "metadata": {},
     "output_type": "execute_result"
    }
   ],
   "source": [
    "axs=np.arange(10,51)\n",
    "axs"
   ]
  },
  {
   "cell_type": "code",
   "execution_count": 16,
   "metadata": {},
   "outputs": [],
   "source": [
    "#6. 10 ve 50 arasındaki çift tam sayılardan oluşan bir array oluşturalım. (10 ve 50 dahil)"
   ]
  },
  {
   "cell_type": "code",
   "execution_count": 18,
   "metadata": {},
   "outputs": [
    {
     "data": {
      "text/plain": [
       "array([10, 12, 14, 16, 18, 20, 22, 24, 26, 28, 30, 32, 34, 36, 38, 40, 42,\n",
       "       44, 46, 48, 50])"
      ]
     },
     "execution_count": 18,
     "metadata": {},
     "output_type": "execute_result"
    }
   ],
   "source": [
    "snx=np.arange(10,51,2)\n",
    "snx"
   ]
  },
  {
   "cell_type": "code",
   "execution_count": 19,
   "metadata": {},
   "outputs": [],
   "source": [
    "#7. 3x3 shape'inde 0'dan 8'e kadar toplam 9 tam sayıdan oluşan bir array oluşturalım"
   ]
  },
  {
   "cell_type": "code",
   "execution_count": 22,
   "metadata": {},
   "outputs": [
    {
     "data": {
      "text/plain": [
       "array([[0, 1, 2],\n",
       "       [3, 4, 5],\n",
       "       [6, 7, 8]])"
      ]
     },
     "execution_count": 22,
     "metadata": {},
     "output_type": "execute_result"
    }
   ],
   "source": [
    "sds=np.arange(0,9).reshape(3,3)\n",
    "sds"
   ]
  },
  {
   "cell_type": "code",
   "execution_count": 23,
   "metadata": {},
   "outputs": [],
   "source": [
    "#8. 3x3 boyutlarında birim matris oluşturun"
   ]
  },
  {
   "cell_type": "code",
   "execution_count": 33,
   "metadata": {},
   "outputs": [
    {
     "data": {
      "text/plain": [
       "array([[1., 0., 0.],\n",
       "       [0., 1., 0.],\n",
       "       [0., 0., 1.]])"
      ]
     },
     "execution_count": 33,
     "metadata": {},
     "output_type": "execute_result"
    }
   ],
   "source": [
    "xsa=np.eye(3)\n",
    "xsa"
   ]
  },
  {
   "cell_type": "code",
   "execution_count": 34,
   "metadata": {},
   "outputs": [],
   "source": [
    "#9. NumPy kullanarak 0-1 arasından rastgele bir sayı oluşturun."
   ]
  },
  {
   "cell_type": "code",
   "execution_count": 3,
   "metadata": {},
   "outputs": [
    {
     "data": {
      "text/plain": [
       "array([0.18140126])"
      ]
     },
     "execution_count": 3,
     "metadata": {},
     "output_type": "execute_result"
    }
   ],
   "source": [
    "lsa=np.random.rand(1)\n",
    "lsa"
   ]
  },
  {
   "cell_type": "code",
   "execution_count": 42,
   "metadata": {},
   "outputs": [],
   "source": [
    "#10. NumPy kullanarak standart dağılıma sahip 25 random sayıdan oluşan bir array oluşturalım.\n"
   ]
  },
  {
   "cell_type": "code",
   "execution_count": 5,
   "metadata": {},
   "outputs": [
    {
     "data": {
      "text/plain": [
       "array([[[-3.34213960e-02,  1.09513121e-01,  1.02612919e+00, ...,\n",
       "         -4.77887803e-01,  1.08357533e+00, -1.00108157e+00],\n",
       "        [-1.50358797e+00,  1.41832184e+00,  2.29667263e+00, ...,\n",
       "          7.86895417e-01, -8.17502190e-01, -1.38163394e-01],\n",
       "        [-7.14384873e-01, -5.33489311e-01, -6.18365841e-01, ...,\n",
       "          6.21639319e-01,  1.05357590e+00, -5.55147833e-01],\n",
       "        ...,\n",
       "        [ 7.58377126e-02, -1.05591437e+00, -7.25617132e-01, ...,\n",
       "          8.84144094e-01, -3.78469814e-01,  4.23985629e-01],\n",
       "        [ 1.71501048e+00, -4.27205278e-01, -1.39120040e+00, ...,\n",
       "         -4.12343721e-01,  1.83308755e+00,  2.18069900e+00],\n",
       "        [ 3.14652329e-01,  1.77179517e+00, -7.30984575e-02, ...,\n",
       "         -2.15579613e-01,  4.22934561e-01, -8.78614859e-01]],\n",
       "\n",
       "       [[-9.26157419e-01,  4.75017874e-01, -5.18729120e-01, ...,\n",
       "         -1.11354921e+00, -2.90764009e+00, -1.21234389e+00],\n",
       "        [ 6.85032764e-01,  3.55844483e-01,  2.78578352e-02, ...,\n",
       "          7.91279159e-01,  5.74366174e-01,  2.57335666e-01],\n",
       "        [-1.97249772e-02,  9.54811941e-01,  2.39863647e-01, ...,\n",
       "         -3.26295541e-01,  9.14184283e-01,  3.40216041e-01],\n",
       "        ...,\n",
       "        [ 8.47005306e-01,  9.24027507e-01, -9.82107284e-01, ...,\n",
       "          5.53864369e-01, -5.18478422e-02,  2.27021480e-01],\n",
       "        [-3.44028007e-01,  3.10184447e-01,  1.72259401e+00, ...,\n",
       "          1.09057905e-01,  4.92771657e-03, -1.28691497e+00],\n",
       "        [ 4.47183188e-01, -2.25672587e+00, -6.94620238e-01, ...,\n",
       "          3.21766848e-01,  1.75542875e+00, -1.09421766e+00]],\n",
       "\n",
       "       [[-1.86457400e+00, -2.00233606e+00, -1.60062164e-01, ...,\n",
       "          1.75231077e+00, -2.12299848e-01, -1.43239212e-01],\n",
       "        [-5.27182651e-01, -1.67002399e-01, -1.51039286e+00, ...,\n",
       "          5.11726123e-01,  1.00375639e+00, -1.15471844e-02],\n",
       "        [ 1.70320958e-01,  2.08612795e+00, -3.14573513e-01, ...,\n",
       "          8.36755337e-01,  7.04096479e-01,  1.16650272e+00],\n",
       "        ...,\n",
       "        [ 1.72084199e-01,  9.74737739e-01, -1.87369875e+00, ...,\n",
       "         -1.74923295e+00,  5.48755699e-01, -3.32565651e-01],\n",
       "        [-2.71018999e-01, -1.69381639e-01, -6.39523460e-01, ...,\n",
       "         -1.66252187e+00, -3.63436477e-02, -1.22584608e-01],\n",
       "        [ 4.24720092e-01,  1.55796090e-01, -6.51359656e-01, ...,\n",
       "         -7.46525022e-01, -1.10261058e-01, -2.53502537e+00]],\n",
       "\n",
       "       ...,\n",
       "\n",
       "       [[-1.10948193e+00, -1.39524726e+00,  3.83958046e-02, ...,\n",
       "         -4.69247262e-01, -9.11367598e-01,  4.26807481e-01],\n",
       "        [ 1.08728274e-01,  8.06780849e-01, -9.77414589e-01, ...,\n",
       "          1.34534810e+00,  4.28359059e-01, -1.90989408e+00],\n",
       "        [ 4.89902820e-01, -1.80397296e+00, -2.01348657e+00, ...,\n",
       "         -1.11253679e+00, -1.05450157e-01, -4.56731524e-01],\n",
       "        ...,\n",
       "        [-1.43715845e+00, -3.32482119e-01,  5.36129833e-01, ...,\n",
       "         -1.42788568e+00,  6.88608207e-02,  2.99542111e-01],\n",
       "        [-1.42372430e-01,  1.35332737e+00,  1.00862268e+00, ...,\n",
       "          3.79102668e-01, -4.50666358e-01, -6.72716338e-01],\n",
       "        [-2.10264911e-01,  2.00569226e-01, -2.81250479e-01, ...,\n",
       "         -1.22419792e+00,  2.68585169e-01, -1.95422786e-01]],\n",
       "\n",
       "       [[-3.72869870e-01,  4.30875682e-01,  1.06914117e+00, ...,\n",
       "         -4.74659158e-01,  1.25351334e+00,  3.61419292e-01],\n",
       "        [-4.90671237e-01, -5.90791527e-01,  8.53224658e-02, ...,\n",
       "          4.34728020e-01,  3.95592338e-01, -1.28070798e-01],\n",
       "        [ 1.21252106e+00, -1.70232289e+00, -7.15099151e-01, ...,\n",
       "          1.43378590e-01, -1.05716861e+00, -6.17409234e-02],\n",
       "        ...,\n",
       "        [-1.58753779e+00, -3.10473757e-01, -7.99495776e-01, ...,\n",
       "         -1.09957481e+00,  2.90423266e+00, -4.28863635e-01],\n",
       "        [ 1.94795229e-01, -6.25579761e-02, -1.09146913e+00, ...,\n",
       "         -1.05346214e+00, -1.64350322e-01, -7.45418601e-01],\n",
       "        [-1.87859072e-03,  1.34863587e-01, -8.82507378e-01, ...,\n",
       "          6.61476924e-01, -4.96267033e-01, -1.22219665e+00]],\n",
       "\n",
       "       [[-1.27832576e+00, -1.30634633e+00,  3.82405148e-01, ...,\n",
       "         -5.14539850e-01, -6.18657431e-02,  1.36294014e+00],\n",
       "        [-1.28381091e-01, -1.53068525e-01, -2.26072718e-01, ...,\n",
       "         -1.17051609e+00,  2.71663326e-01, -7.13996215e-01],\n",
       "        [-8.17458474e-01,  6.06230174e-01,  1.16643643e+00, ...,\n",
       "          1.17806366e+00,  4.57237046e-01, -8.72411687e-01],\n",
       "        ...,\n",
       "        [-8.40320186e-01,  8.48166014e-01, -1.16774374e+00, ...,\n",
       "         -4.21403698e-01,  3.30935778e-01, -1.36547852e+00],\n",
       "        [ 3.30955142e-01,  1.75499127e+00,  1.49500998e+00, ...,\n",
       "         -2.72954028e-01, -1.03787202e-01,  5.81387763e-01],\n",
       "        [ 6.67583044e-01,  8.24640922e-01, -1.80676350e+00, ...,\n",
       "          6.40064427e-01, -7.23559916e-01,  1.05489709e+00]]])"
      ]
     },
     "execution_count": 5,
     "metadata": {},
     "output_type": "execute_result"
    }
   ],
   "source": [
    "uds=np.random.randn(10,500,25)\n",
    "uds"
   ]
  },
  {
   "cell_type": "code",
   "execution_count": 45,
   "metadata": {},
   "outputs": [],
   "source": [
    "#11. Aşağıdaki çıktıdakine benzer array'i oluşturmaya çalışın"
   ]
  },
  {
   "cell_type": "code",
   "execution_count": 21,
   "metadata": {},
   "outputs": [
    {
     "data": {
      "text/plain": [
       "array([[0.  , 0.01, 0.02, 0.03, 0.04, 0.05, 0.06, 0.07, 0.08, 0.09],\n",
       "       [0.1 , 0.11, 0.12, 0.13, 0.14, 0.15, 0.16, 0.17, 0.18, 0.19],\n",
       "       [0.2 , 0.21, 0.22, 0.23, 0.24, 0.25, 0.26, 0.27, 0.28, 0.29],\n",
       "       [0.3 , 0.31, 0.32, 0.33, 0.34, 0.35, 0.36, 0.37, 0.38, 0.39],\n",
       "       [0.4 , 0.41, 0.42, 0.43, 0.44, 0.45, 0.46, 0.47, 0.48, 0.49],\n",
       "       [0.51, 0.52, 0.53, 0.54, 0.55, 0.56, 0.57, 0.58, 0.59, 0.6 ],\n",
       "       [0.61, 0.62, 0.63, 0.64, 0.65, 0.66, 0.67, 0.68, 0.69, 0.7 ],\n",
       "       [0.71, 0.72, 0.73, 0.74, 0.75, 0.76, 0.77, 0.78, 0.79, 0.8 ],\n",
       "       [0.81, 0.82, 0.83, 0.84, 0.85, 0.86, 0.87, 0.88, 0.89, 0.9 ],\n",
       "       [0.91, 0.92, 0.93, 0.94, 0.95, 0.96, 0.97, 0.98, 0.99, 1.  ]])"
      ]
     },
     "execution_count": 21,
     "metadata": {},
     "output_type": "execute_result"
    }
   ],
   "source": [
    "gsd=np.linspace(0.0,1,100,dtype='float').reshape(10,10).round(2)\n",
    "gsd"
   ]
  },
  {
   "cell_type": "code",
   "execution_count": 68,
   "metadata": {},
   "outputs": [],
   "source": [
    "#12. 0-1 arasında lineer artış gösteren ve 20 sayıdan oluşan bir array oluşturun:"
   ]
  },
  {
   "cell_type": "code",
   "execution_count": 70,
   "metadata": {},
   "outputs": [
    {
     "data": {
      "text/plain": [
       "array([0.        , 0.05263158, 0.10526316, 0.15789474, 0.21052632,\n",
       "       0.26315789, 0.31578947, 0.36842105, 0.42105263, 0.47368421,\n",
       "       0.52631579, 0.57894737, 0.63157895, 0.68421053, 0.73684211,\n",
       "       0.78947368, 0.84210526, 0.89473684, 0.94736842, 1.        ])"
      ]
     },
     "execution_count": 70,
     "metadata": {},
     "output_type": "execute_result"
    }
   ],
   "source": [
    "dsd=np.linspace(0,1,20)\n",
    "dsd"
   ]
  },
  {
   "cell_type": "code",
   "execution_count": 25,
   "metadata": {},
   "outputs": [
    {
     "data": {
      "text/plain": [
       "array([[ 1,  2,  3,  4,  5],\n",
       "       [ 6,  7,  8,  9, 10],\n",
       "       [11, 12, 13, 14, 15],\n",
       "       [16, 17, 18, 19, 20],\n",
       "       [21, 22, 23, 24, 25]])"
      ]
     },
     "execution_count": 25,
     "metadata": {},
     "output_type": "execute_result"
    }
   ],
   "source": [
    "mat = np.arange(1,26).reshape(5,5)\n",
    "mat"
   ]
  },
  {
   "cell_type": "code",
   "execution_count": 72,
   "metadata": {},
   "outputs": [],
   "source": [
    "#13. Aşağıda verilen matrisleri oluşturmaya çalışın."
   ]
  },
  {
   "cell_type": "code",
   "execution_count": 26,
   "metadata": {},
   "outputs": [
    {
     "data": {
      "text/plain": [
       "array([[12, 13, 14, 15],\n",
       "       [17, 18, 19, 20],\n",
       "       [22, 23, 24, 25]])"
      ]
     },
     "execution_count": 26,
     "metadata": {},
     "output_type": "execute_result"
    }
   ],
   "source": [
    "mat[2:5,1:5]\n"
   ]
  },
  {
   "cell_type": "code",
   "execution_count": 98,
   "metadata": {},
   "outputs": [],
   "source": [
    "#14. Aşağıda gösterilen çıktıyı üreten kodu yazın."
   ]
  },
  {
   "cell_type": "code",
   "execution_count": 99,
   "metadata": {},
   "outputs": [
    {
     "data": {
      "text/plain": [
       "20"
      ]
     },
     "execution_count": 99,
     "metadata": {},
     "output_type": "execute_result"
    }
   ],
   "source": [
    "mat[3,4]"
   ]
  },
  {
   "cell_type": "code",
   "execution_count": 100,
   "metadata": {},
   "outputs": [],
   "source": [
    "#15. mat arrayini kullanarak aşağıdaki matris çıktısını verecek kodları oluşturun"
   ]
  },
  {
   "cell_type": "code",
   "execution_count": 28,
   "metadata": {},
   "outputs": [
    {
     "data": {
      "text/plain": [
       "array([[ 1],\n",
       "       [ 6],\n",
       "       [11]])"
      ]
     },
     "execution_count": 28,
     "metadata": {},
     "output_type": "execute_result"
    }
   ],
   "source": [
    "mat[0:3,:1]"
   ]
  },
  {
   "cell_type": "code",
   "execution_count": 107,
   "metadata": {},
   "outputs": [],
   "source": [
    "#16. mat arrayini kullanarak aşağıdaki matris çıktısını verecek kodları oluşturun"
   ]
  },
  {
   "cell_type": "code",
   "execution_count": 113,
   "metadata": {},
   "outputs": [
    {
     "data": {
      "text/plain": [
       "array([21, 22, 23, 24, 25])"
      ]
     },
     "execution_count": 113,
     "metadata": {},
     "output_type": "execute_result"
    }
   ],
   "source": [
    "mat[4,0:5]"
   ]
  },
  {
   "cell_type": "code",
   "execution_count": 114,
   "metadata": {},
   "outputs": [],
   "source": [
    "#17. mat arrayini kullanarak aşağıdaki matris çıktısını verecek kodları oluşturun"
   ]
  },
  {
   "cell_type": "code",
   "execution_count": 118,
   "metadata": {},
   "outputs": [
    {
     "data": {
      "text/plain": [
       "array([[16, 17, 18, 19, 20],\n",
       "       [21, 22, 23, 24, 25]])"
      ]
     },
     "execution_count": 118,
     "metadata": {},
     "output_type": "execute_result"
    }
   ],
   "source": [
    "mat[3:5]"
   ]
  },
  {
   "cell_type": "code",
   "execution_count": null,
   "metadata": {},
   "outputs": [],
   "source": [
    "#18. Mat arrayindeki bütün değerlerin toplamını bulun"
   ]
  },
  {
   "cell_type": "code",
   "execution_count": 119,
   "metadata": {},
   "outputs": [
    {
     "data": {
      "text/plain": [
       "325"
      ]
     },
     "execution_count": 119,
     "metadata": {},
     "output_type": "execute_result"
    }
   ],
   "source": [
    "mat.sum()"
   ]
  },
  {
   "cell_type": "code",
   "execution_count": 120,
   "metadata": {},
   "outputs": [],
   "source": [
    "#19. Mat arrayindeki değerlerin standart sapmasını bulun"
   ]
  },
  {
   "cell_type": "code",
   "execution_count": 121,
   "metadata": {},
   "outputs": [
    {
     "data": {
      "text/plain": [
       "7.211102550927978"
      ]
     },
     "execution_count": 121,
     "metadata": {},
     "output_type": "execute_result"
    }
   ],
   "source": [
    "mat.std()"
   ]
  },
  {
   "cell_type": "code",
   "execution_count": 122,
   "metadata": {},
   "outputs": [],
   "source": [
    "#20. Mat arrayindeki her sütunun kendi içinde toplamlarını bularak yeni bir array oluşturun"
   ]
  },
  {
   "cell_type": "code",
   "execution_count": 123,
   "metadata": {},
   "outputs": [
    {
     "data": {
      "text/plain": [
       "array([55, 60, 65, 70, 75])"
      ]
     },
     "execution_count": 123,
     "metadata": {},
     "output_type": "execute_result"
    }
   ],
   "source": [
    "mat.sum(0)"
   ]
  },
  {
   "cell_type": "code",
   "execution_count": null,
   "metadata": {},
   "outputs": [],
   "source": []
  }
 ],
 "metadata": {
  "kernelspec": {
   "display_name": "Python 3",
   "language": "python",
   "name": "python3"
  },
  "language_info": {
   "codemirror_mode": {
    "name": "ipython",
    "version": 3
   },
   "file_extension": ".py",
   "mimetype": "text/x-python",
   "name": "python",
   "nbconvert_exporter": "python",
   "pygments_lexer": "ipython3",
   "version": "3.11.0"
  },
  "orig_nbformat": 4
 },
 "nbformat": 4,
 "nbformat_minor": 2
}
